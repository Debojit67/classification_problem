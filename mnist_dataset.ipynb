{
 "cells": [
  {
   "cell_type": "code",
   "execution_count": 16,
   "metadata": {},
   "outputs": [
    {
     "name": "stdout",
     "output_type": "stream",
     "text": [
      "(60000, 28, 28)\n",
      "==============================================================\n",
      "Number of training dataset and labels = 60000 & 60000\n",
      "Number of test dataset and labels = 10000 & 10000\n",
      "Dimensions of training/test images and labels = 28 * 28\n",
      "==============================================================\n"
     ]
    },
    {
     "data": {
      "image/png": "[encoded data removed]",
      "text/plain": [
       "<Figure size 432x288 with 1 Axes>"
      ]
     },
     "metadata": {
      "needs_background": "light"
     },
     "output_type": "display_data"
    },
    {
     "data": {
      "image/png": "[encoded data removed]",
      "text/plain": [
       "<Figure size 432x288 with 1 Axes>"
      ]
     },
     "metadata": {
      "needs_background": "light"
     },
     "output_type": "display_data"
    },
    {
     "data": {
      "image/png": "[encoded data removed]",
      "text/plain": [
       "<Figure size 432x288 with 1 Axes>"
      ]
     },
     "metadata": {
      "needs_background": "light"
     },
     "output_type": "display_data"
    },
    {
     "data": {
      "image/png": "[encoded data removed]",
      "text/plain": [
       "<Figure size 432x288 with 1 Axes>"
      ]
     },
     "metadata": {
      "needs_background": "light"
     },
     "output_type": "display_data"
    },
    {
     "data": {
      "image/png": "[encoded data removed]",
      "text/plain": [
       "<Figure size 432x288 with 1 Axes>"
      ]
     },
     "metadata": {
      "needs_background": "light"
     },
     "output_type": "display_data"
    },
    {
     "data": {
      "image/png": "[encoded data removed]",
      "text/plain": [
       "<Figure size 432x288 with 1 Axes>"
      ]
     },
     "metadata": {
      "needs_background": "light"
     },
     "output_type": "display_data"
    },
    {
     "data": {
      "image/png": "[encoded data removed]",
      "text/plain": [
       "<Figure size 432x288 with 1 Axes>"
      ]
     },
     "metadata": {
      "needs_background": "light"
     },
     "output_type": "display_data"
    },
    {
     "data": {
      "image/png": "[encoded data removed]",
      "text/plain": [
       "<Figure size 432x288 with 1 Axes>"
      ]
     },
     "metadata": {
      "needs_background": "light"
     },
     "output_type": "display_data"
    },
    {
     "data": {
      "image/png": "[encoded data removed]",
      "text/plain": [
       "<Figure size 432x288 with 1 Axes>"
      ]
     },
     "metadata": {
      "needs_background": "light"
     },
     "output_type": "display_data"
    },
    {
     "data": {
      "image/png": "[encoded data removed]",
      "text/plain": [
       "<Figure size 432x288 with 1 Axes>"
      ]
     },
     "metadata": {
      "needs_background": "light"
     },
     "output_type": "display_data"
    },
    {
     "name": "stdout",
     "output_type": "stream",
     "text": [
      "(60000, 28, 28, 1)\n",
      "(10000, 10)\n"
     ]
    }
   ],
   "source": [
    "#import dataset(MNIST)\n",
    "from keras.datasets import mnist\n",
    "from keras.utils import np_utils\n",
    "import numpy as np\n",
    "import cv2 as cv\n",
    "import matplotlib.pyplot as plt\n",
    "\n",
    "(xtrain,ytrain),(xtest,ytest)=mnist.load_data();\n",
    "print(xtrain.shape)\n",
    "\n",
    "print(\"==============================================================\")\n",
    "print(\"Number of training dataset and labels =\",xtrain.shape[0],\"&\", ytrain.shape[0])\n",
    "print(\"Number of test dataset and labels =\",ytest.shape[0],\"&\", ytest.shape[0])\n",
    "print(\"Dimensions of training/test images and labels =\",xtrain.shape[1],\"*\", xtrain.shape[1])\n",
    "print(\"==============================================================\")\n",
    "\n",
    "#Visualize input/training data randomly\n",
    "\n",
    "c=330\n",
    "for i in range(0,10):\n",
    "    randNumber=np.random.randint(0,xtrain.shape[0])\n",
    "    windowName=\"sample number\"+str(randNumber)\n",
    "    cv.imshow(windowName,xtrain[randNumber])\n",
    "    cv.waitKey(0)\n",
    "cv.destroyAllWindows()\n",
    "\n",
    "for i in range(0,10):\n",
    "    randNumber=np.random.randint(0,xtrain.shape[0])\n",
    "    plt.subplot(c+1)\n",
    "    plt.imshow(xtrain[randNumber],cmap=plt.get_cmap('gray'))\n",
    "    plt.show()\n",
    "\n",
    "#reshaping datasets\n",
    "\n",
    "#########################################################################\n",
    "xtrain=xtrain.reshape(xtrain.shape[0],xtrain.shape[1],xtrain.shape[2],1)\n",
    "xtest=xtest.reshape(xtest.shape[0],xtest.shape[1],xtest.shape[2],1)\n",
    "print(xtrain.shape)\n",
    "\n",
    "xtrain=xtrain.astype('float32')\n",
    "xtest=xtest.astype('float32')\n",
    "\n",
    "xtrain/=255\n",
    "xtest/=255\n",
    "#########################################################################\n",
    "ytrain=np_utils.to_categorical(ytrain)\n",
    "ytest=np_utils.to_categorical(ytest)\n",
    "print(ytest.shape)\n"
   ]
  },
  {
   "cell_type": "code",
   "execution_count": 17,
   "metadata": {},
   "outputs": [
    {
     "name": "stdout",
     "output_type": "stream",
     "text": [
      "_________________________________________________________________\n",
      "Layer (type)                 Output Shape              Param #   \n",
      "=================================================================\n",
      "conv2d_5 (Conv2D)            (None, 26, 26, 32)        320       \n",
      "_________________________________________________________________\n",
      "conv2d_6 (Conv2D)            (None, 24, 24, 64)        18496     \n",
      "_________________________________________________________________\n",
      "max_pooling2d_3 (MaxPooling2 (None, 12, 12, 64)        0         \n",
      "_________________________________________________________________\n",
      "dropout_4 (Dropout)          (None, 12, 12, 64)        0         \n",
      "_________________________________________________________________\n",
      "flatten_2 (Flatten)          (None, 9216)              0         \n",
      "_________________________________________________________________\n",
      "dense_3 (Dense)              (None, 128)               1179776   \n",
      "_________________________________________________________________\n",
      "dropout_5 (Dropout)          (None, 128)               0         \n",
      "_________________________________________________________________\n",
      "dense_4 (Dense)              (None, 10)                1290      \n",
      "=================================================================\n",
      "Total params: 1,199,882\n",
      "Trainable params: 1,199,882\n",
      "Non-trainable params: 0\n",
      "_________________________________________________________________\n",
      "None\n"
     ]
    }
   ],
   "source": [
    "import keras\n",
    "from keras.datasets import mnist\n",
    "from keras.models import Sequential\n",
    "from keras.layers import Dense, Dropout, Flatten\n",
    "from keras.layers import Conv2D, MaxPooling2D\n",
    "from keras import backend as k\n",
    "from keras.optimizers import SGD\n",
    "\n",
    "input_shape=(xtrain.shape[1],xtrain.shape[2],1)\n",
    "model=Sequential()\n",
    "model.add(Conv2D(32,kernel_size=(3,3),activation='relu',input_shape=input_shape))\n",
    "model.add(Conv2D(64,(3,3),activation='relu'))\n",
    "model.add(MaxPooling2D(pool_size=(2,2)))\n",
    "model.add(Dropout(0.25))\n",
    "model.add(Flatten())\n",
    "model.add(Dense(128,activation='relu'))\n",
    "model.add(Dropout(0.5))\n",
    "model.add(Dense(ytrain.shape[1],activation='softmax'))\n",
    "model.compile(loss='categorical_crossentropy',optimizer=SGD(0.01),metrics=['accuracy'])\n",
    "\n",
    "print(model.summary())\n",
    "########################################################################################"
   ]
  },
  {
   "cell_type": "code",
   "execution_count": 20,
   "metadata": {},
   "outputs": [
    {
     "name": "stdout",
     "output_type": "stream",
     "text": [
      "Training the model\n",
      "Train on 60000 samples, validate on 10000 samples\n",
      "Epoch 1/6\n",
      "60000/60000 [==============================] - 201s 3ms/step - loss: 0.4112 - acc: 0.8726 - val_loss: 0.1868 - val_acc: 0.9453\n",
      "Epoch 2/6\n",
      "60000/60000 [==============================] - 188s 3ms/step - loss: 0.2681 - acc: 0.9196 - val_loss: 0.1272 - val_acc: 0.9627\n",
      "Epoch 3/6\n",
      "60000/60000 [==============================] - 190s 3ms/step - loss: 0.1971 - acc: 0.9417 - val_loss: 0.0915 - val_acc: 0.9739\n",
      "Epoch 4/6\n",
      "60000/60000 [==============================] - 188s 3ms/step - loss: 0.1564 - acc: 0.9533 - val_loss: 0.0723 - val_acc: 0.9779\n",
      "Epoch 5/6\n",
      "60000/60000 [==============================] - 186s 3ms/step - loss: 0.1304 - acc: 0.9619 - val_loss: 0.0612 - val_acc: 0.9806\n",
      "Epoch 6/6\n",
      "60000/60000 [==============================] - 188s 3ms/step - loss: 0.1149 - acc: 0.9660 - val_loss: 0.0591 - val_acc: 0.9811\n",
      "[0.059082170736417174, 0.9811]\n"
     ]
    }
   ],
   "source": [
    "print(\"Training the model\")\n",
    "epochs=6\n",
    "batch_size=32\n",
    "history=model.fit(xtrain,ytrain,batch_size=batch_size,epochs=epochs,verbose=1,validation_data=(xtest,ytest))\n",
    "score=model.evaluate(xtest,ytest,verbose=0)\n",
    "print(score)\n",
    "model.save('mnist_batch_32_epoch_6.h5')"
   ]
  },
  {
   "cell_type": "code",
   "execution_count": 23,
   "metadata": {},
   "outputs": [
    {
     "name": "stdout",
     "output_type": "stream",
     "text": [
      "Predicted result : 8         actual result : 8\n",
      "----------------------------------------------------------------------------------\n",
      "Predicted result : 8         actual result : 8\n",
      "----------------------------------------------------------------------------------\n",
      "Predicted result : 9         actual result : 9\n",
      "----------------------------------------------------------------------------------\n",
      "Predicted result : 6         actual result : 6\n",
      "----------------------------------------------------------------------------------\n",
      "Predicted result : 7         actual result : 7\n",
      "----------------------------------------------------------------------------------\n",
      "Predicted result : 4         actual result : 4\n",
      "----------------------------------------------------------------------------------\n",
      "Predicted result : 4         actual result : 4\n",
      "----------------------------------------------------------------------------------\n",
      "Predicted result : 0         actual result : 0\n",
      "----------------------------------------------------------------------------------\n",
      "Predicted result : 9         actual result : 9\n",
      "----------------------------------------------------------------------------------\n"
     ]
    }
   ],
   "source": [
    "############Testing out data###########\n",
    "from keras.models import load_model\n",
    "digit_classifier=load_model('mnist_batch_32_epoch_6.h5')\n",
    "import cv2\n",
    "import numpy as np\n",
    "\n",
    "windowName=\"digit classifier\"\n",
    "for i in range(1,10):\n",
    "    val=np.random.randint(0,len(xtest))\n",
    "    inp_img=xtest[val]\n",
    "    out_img=cv2.resize(inp_img,None,fx=4,fy=4,interpolation=cv2.INTER_CUBIC)\n",
    "    inp_img=inp_img.reshape(1,xtest.shape[1],xtest.shape[1],1)\n",
    "    pred_val=str(digit_classifier.predict_classes(inp_img,1,verbose=0)[0])\n",
    "    j=0\n",
    "    while ytest[val][j]!=1.0:\n",
    "        j+=1\n",
    "        \n",
    "        \n",
    "    print(\"Predicted result :\",pred_val ,\"       \",\"actual result :\",j)\n",
    "    print(\"----------------------------------------------------------------------------------\")\n",
    "    cv2.imshow(windowName,xtest[val])\n",
    "    cv2.waitKey(0);\n",
    "cv2.destroyAllWindows()\n",
    "\n"
   ]
  },
  {
   "cell_type": "code",
   "execution_count": null,
   "metadata": {},
   "outputs": [],
   "source": []
  }
 ],
 "metadata": {
  "kernelspec": {
   "display_name": "Python 3",
   "language": "python",
   "name": "python3"
  },
  "language_info": {
   "codemirror_mode": {
    "name": "ipython",
    "version": 3
   },
   "file_extension": ".py",
   "mimetype": "text/x-python",
   "name": "python",
   "nbconvert_exporter": "python",
   "pygments_lexer": "ipython3",
   "version": "3.6.8"
  }
 },
 "nbformat": 4,
 "nbformat_minor": 2
}
